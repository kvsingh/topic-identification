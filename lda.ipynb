{
 "cells": [
  {
   "cell_type": "code",
   "execution_count": 31,
   "metadata": {},
   "outputs": [
    {
     "name": "stdout",
     "output_type": "stream",
     "text": [
      "[(0, 0.98665263378053825)]\n",
      "<gensim.interfaces.TransformedCorpus object at 0x7f428c64be10>\n"
     ]
    }
   ],
   "source": [
    "from gensim import models, similarities\n",
    "import pickle\n",
    "from gensim.models.tfidfmodel\timport\tTfidfModel\n",
    "dictionary = pickle.load(open('dictionary-2.p', \"rb\"))\n",
    "tokenized_lyrics = pickle.load(open('tokenized-lyrics-2.p', \"rb\"))\n",
    "document_song_mapping = pickle.load(open('doc-song-mapping-2.p', \"rb\"))\n",
    "token_song_mapping = pickle.load(open('token-song-mapping-2.p', \"rb\"))\n",
    "corpus\t=\t[dictionary.doc2bow(doc)\tfor\tdoc\tin\ttokenized_lyrics]\n",
    "mydict = dictionary.token2id\n",
    "inverted_dict = dict([[v,k] for k,v in mydict.items()])\n",
    "\n",
    "lda = models.LdaModel(corpus, id2word=dictionary, num_topics=5)\n",
    "breaking_bow = corpus[5]\n",
    "corpus_lda = lda[corpus]\n",
    "breaking_lda = lda[breaking_bow]\n",
    "\n",
    "print breaking_lda\n",
    "print corpus_lda"
   ]
  },
  {
   "cell_type": "code",
   "execution_count": 25,
   "metadata": {},
   "outputs": [
    {
     "data": {
      "text/plain": [
       "['Papercut',\n",
       " 'Somewhere I Belong',\n",
       " 'Somewhere I Belong',\n",
       " 'Somewhere I Belong',\n",
       " 'Invisible',\n",
       " 'Invisible',\n",
       " 'Invisible',\n",
       " 'Invisible',\n",
       " 'Invisible',\n",
       " 'Invisible',\n",
       " 'Invisible',\n",
       " 'Invisible',\n",
       " 'Invisible',\n",
       " 'Leave Out All the Rest',\n",
       " 'Lost in Paradise',\n",
       " 'My Last Breath',\n",
       " 'Rain When I Die',\n",
       " 'Spit Out the Bone',\n",
       " 'Spit Out the Bone',\n",
       " 'Your Time Has Come',\n",
       " 'Exploder',\n",
       " 'Exploder',\n",
       " 'Out Of Exile',\n",
       " 'Out Of Exile',\n",
       " 'Out Of Exile',\n",
       " 'State of the Art',\n",
       " 'Megalomaniac',\n",
       " 'Glitterbomb',\n",
       " 'Glitterbomb',\n",
       " 'Glitterbomb',\n",
       " 'Glitterbomb',\n",
       " 'Glitterbomb',\n",
       " 'Glitterbomb',\n",
       " 'Glitterbomb',\n",
       " 'The Moor',\n",
       " 'The Moor',\n",
       " 'The Moor',\n",
       " 'The Moor',\n",
       " 'The Moor',\n",
       " 'Everything in Its Right Place',\n",
       " 'Ten Years Gone',\n",
       " 'Ten Years Gone',\n",
       " 'Ramble On',\n",
       " 'Fool In The Rain',\n",
       " 'Good Times Bad Times',\n",
       " 'Good Times Bad Times',\n",
       " 'Good Times Bad Times',\n",
       " 'Shesmovedon',\n",
       " 'Shesmovedon',\n",
       " 'Shesmovedon',\n",
       " 'Shesmovedon',\n",
       " 'Normal',\n",
       " 'Normal',\n",
       " 'Normal',\n",
       " 'Normal',\n",
       " 'Normal',\n",
       " 'Normal',\n",
       " 'Normal',\n",
       " 'Normal',\n",
       " 'Normal',\n",
       " 'Normal',\n",
       " 'Normal',\n",
       " 'Normal',\n",
       " 'Cigarettes & Alcohol',\n",
       " 'Cigarettes & Alcohol',\n",
       " \"Rock 'n' Roll Star\",\n",
       " \"Rock 'n' Roll Star\",\n",
       " \"Don't Go Away\",\n",
       " 'Some Might Say',\n",
       " '21st Century Breakdown',\n",
       " '21st Century Breakdown',\n",
       " '21st Century Breakdown',\n",
       " '21st Century Breakdown',\n",
       " '21st Century Breakdown',\n",
       " '21st Century Breakdown',\n",
       " '21st Century Breakdown',\n",
       " 'When I Come Around',\n",
       " 'The Man Who Sold The World',\n",
       " 'The Man Who Sold The World',\n",
       " 'The Man Who Sold The World',\n",
       " 'Territorial Pissings',\n",
       " 'On a Plain',\n",
       " 'Warning',\n",
       " 'Warning',\n",
       " 'Warning',\n",
       " 'Warning',\n",
       " 'Hand of Doom',\n",
       " 'Changes',\n",
       " 'Changes',\n",
       " 'After Forever',\n",
       " 'After Forever',\n",
       " 'After Forever',\n",
       " 'Mockingbird',\n",
       " 'Mockingbird',\n",
       " 'Mockingbird',\n",
       " 'Mockingbird',\n",
       " 'Mockingbird',\n",
       " 'Mockingbird',\n",
       " 'Mockingbird',\n",
       " 'Mockingbird',\n",
       " 'Evil Twin',\n",
       " 'Evil Twin',\n",
       " 'Evil Twin',\n",
       " 'Evil Twin',\n",
       " 'Evil Twin',\n",
       " 'Evil Twin',\n",
       " 'Stronger Than I Was',\n",
       " 'Stronger Than I Was',\n",
       " 'Stronger Than I Was',\n",
       " 'Stronger Than I Was',\n",
       " 'Stronger Than I Was',\n",
       " 'Stronger Than I Was',\n",
       " 'Stronger Than I Was',\n",
       " 'Stronger Than I Was',\n",
       " 'Stronger Than I Was',\n",
       " 'Stronger Than I Was',\n",
       " 'Stronger Than I Was',\n",
       " 'Stronger Than I Was',\n",
       " 'Stronger Than I Was',\n",
       " 'Stronger Than I Was',\n",
       " 'Stronger Than I Was',\n",
       " 'Stronger Than I Was',\n",
       " 'Not Afraid',\n",
       " 'Not Afraid',\n",
       " 'Not Afraid',\n",
       " 'Guts Over Fear',\n",
       " 'Guts Over Fear',\n",
       " 'Guts Over Fear',\n",
       " 'Guts Over Fear',\n",
       " 'Guts Over Fear',\n",
       " 'Guts Over Fear',\n",
       " 'Guts Over Fear',\n",
       " 'Guts Over Fear',\n",
       " 'Guts Over Fear',\n",
       " 'Guts Over Fear',\n",
       " 'Guts Over Fear',\n",
       " 'Guts Over Fear',\n",
       " 'Guts Over Fear',\n",
       " 'Guts Over Fear',\n",
       " 'Guts Over Fear',\n",
       " 'Guts Over Fear',\n",
       " 'Guts Over Fear',\n",
       " 'Guts Over Fear',\n",
       " 'Guts Over Fear',\n",
       " 'Legacy',\n",
       " 'Legacy',\n",
       " 'Legacy',\n",
       " 'No Love',\n",
       " 'No Love',\n",
       " 'No Love',\n",
       " 'No Love',\n",
       " 'Just Luv Me',\n",
       " 'Just Luv Me',\n",
       " 'Do You Wanna Come Over?',\n",
       " 'Till the World Ends (The Femme Fatale Remix)',\n",
       " 'Who Gon Stop Me',\n",
       " 'Who Gon Stop Me',\n",
       " 'Who Gon Stop Me',\n",
       " 'Renegade',\n",
       " 'Renegade',\n",
       " 'Renegade',\n",
       " 'Otis',\n",
       " '99 Problems',\n",
       " '99 Problems',\n",
       " '99 Problems',\n",
       " 'Takeover',\n",
       " 'Takeover',\n",
       " 'Takeover',\n",
       " 'Takeover',\n",
       " 'Takeover',\n",
       " 'Takeover',\n",
       " 'Takeover',\n",
       " 'Murder to Excellence',\n",
       " 'Murder to Excellence',\n",
       " 'Hey You',\n",
       " 'Hey You',\n",
       " 'Dogs',\n",
       " 'Dogs',\n",
       " 'Dogs',\n",
       " 'Dogs',\n",
       " 'Dogs',\n",
       " 'Dogs',\n",
       " 'Dogs',\n",
       " 'Dogs',\n",
       " 'Dogs',\n",
       " 'Dogs',\n",
       " 'Dogs',\n",
       " 'Dogs',\n",
       " 'The Great Gig in the Sky',\n",
       " 'The Great Gig in the Sky',\n",
       " 'Ruiner',\n",
       " 'All Time Low',\n",
       " 'The Idea of You',\n",
       " 'The Idea of You',\n",
       " 'The Idea of You',\n",
       " 'The Idea of You',\n",
       " 'In Two',\n",
       " 'In Two']"
      ]
     },
     "execution_count": 25,
     "metadata": {},
     "output_type": "execute_result"
    }
   ],
   "source": [
    "token_song_mapping[\"wa\"]"
   ]
  },
  {
   "cell_type": "code",
   "execution_count": 30,
   "metadata": {},
   "outputs": [
    {
     "name": "stdout",
     "output_type": "stream",
     "text": [
      "True\n",
      "2\n"
     ]
    }
   ],
   "source": [
    "print 'wa' in tokenized_lyrics[1]"
   ]
  },
  {
   "cell_type": "code",
   "execution_count": 23,
   "metadata": {},
   "outputs": [
    {
     "data": {
      "text/plain": [
       "[(2, 0.98668060588223927)]"
      ]
     },
     "execution_count": 23,
     "metadata": {},
     "output_type": "execute_result"
    }
   ],
   "source": [
    "lda.get_document_topics(corpus[5])"
   ]
  },
  {
   "cell_type": "code",
   "execution_count": 32,
   "metadata": {},
   "outputs": [
    {
     "data": {
      "text/plain": [
       "[(0,\n",
       "  u'0.014*\"gone\" + 0.011*\"way\" + 0.011*\"got\" + 0.010*\"know\" + 0.010*\"never\" + 0.009*\"come\" + 0.008*\"stop\" + 0.008*\"see\" + 0.006*\"like\" + 0.006*\"yeah\"'),\n",
       " (1,\n",
       "  u'0.014*\"know\" + 0.012*\"like\" + 0.008*\"feel\" + 0.008*\"away\" + 0.007*\"love\" + 0.007*\"see\" + 0.006*\"get\" + 0.006*\"want\" + 0.006*\"time\" + 0.006*\"one\"'),\n",
       " (2,\n",
       "  u'0.011*\"like\" + 0.010*\"know\" + 0.009*\"one\" + 0.008*\"get\" + 0.007*\"right\" + 0.006*\"love\" + 0.006*\"time\" + 0.005*\"baby\" + 0.005*\"got\" + 0.005*\"yeah\"'),\n",
       " (3,\n",
       "  u'0.010*\"time\" + 0.007*\"say\" + 0.007*\"get\" + 0.007*\"shit\" + 0.006*\"see\" + 0.006*\"know\" + 0.006*\"yeah\" + 0.005*\"rap\" + 0.005*\"day\" + 0.005*\"baby\"'),\n",
       " (4,\n",
       "  u'0.014*\"got\" + 0.011*\"like\" + 0.011*\"know\" + 0.010*\"time\" + 0.007*\"make\" + 0.007*\"say\" + 0.007*\"feel\" + 0.007*\"get\" + 0.006*\"need\" + 0.006*\"see\"')]"
      ]
     },
     "execution_count": 32,
     "metadata": {},
     "output_type": "execute_result"
    }
   ],
   "source": [
    "lda.print_topics(5)"
   ]
  },
  {
   "cell_type": "code",
   "execution_count": 14,
   "metadata": {},
   "outputs": [
    {
     "name": "stdout",
     "output_type": "stream",
     "text": [
      "<type 'numpy.ndarray'>\n",
      "(5, 4803)\n",
      "[[  4.77648147e-03   3.84447809e-03   4.00888504e-03 ...,   3.84935546e-05\n",
      "    3.85241253e-05   3.84955056e-05]\n",
      " [  3.81277785e-03   2.67647215e-03   2.92029437e-03 ...,   3.37034387e-05\n",
      "    3.44681762e-05   3.37346341e-05]\n",
      " [  3.97650941e-03   3.08790402e-03   6.23658142e-03 ...,   2.40347176e-05\n",
      "    3.41158632e-05   2.54805298e-05]\n",
      " [  1.08107600e-02   2.01246191e-03   5.67232141e-03 ...,   2.02713072e-04\n",
      "    7.02362055e-04   1.97956722e-04]\n",
      " [  3.14725849e-03   5.92561244e-03   5.73279406e-03 ...,   3.64991215e-05\n",
      "    4.57068417e-05   3.87259400e-05]]\n"
     ]
    }
   ],
   "source": [
    "g = lda.get_topics()\n",
    "print type(g)\n",
    "print g.shape\n",
    "print g"
   ]
  },
  {
   "cell_type": "code",
   "execution_count": 9,
   "metadata": {},
   "outputs": [
    {
     "data": {
      "text/plain": [
       "[(0,\n",
       "  u'0.027*\"im\" + 0.017*\"oh\" + 0.011*\"dont\" + 0.011*\"gone\" + 0.008*\"like\" + 0.007*\"know\" + 0.007*\"want\" + 0.007*\"let\" + 0.006*\"time\" + 0.006*\"get\"'),\n",
       " (1,\n",
       "  u'0.013*\"dont\" + 0.009*\"get\" + 0.009*\"im\" + 0.009*\"time\" + 0.009*\"oh\" + 0.008*\"know\" + 0.008*\"la\" + 0.008*\"got\" + 0.007*\"one\" + 0.007*\"like\"'),\n",
       " (2,\n",
       "  u'0.022*\"im\" + 0.014*\"know\" + 0.013*\"dont\" + 0.011*\"na\" + 0.011*\"got\" + 0.011*\"like\" + 0.010*\"way\" + 0.006*\"time\" + 0.006*\"feel\" + 0.006*\"go\"'),\n",
       " (3,\n",
       "  u'0.011*\"ive\" + 0.009*\"im\" + 0.008*\"dont\" + 0.008*\"nothing\" + 0.007*\"know\" + 0.007*\"youre\" + 0.007*\"love\" + 0.007*\"never\" + 0.007*\"like\" + 0.007*\"got\"'),\n",
       " (4,\n",
       "  u'0.016*\"im\" + 0.009*\"know\" + 0.009*\"like\" + 0.008*\"la\" + 0.008*\"dont\" + 0.007*\"say\" + 0.007*\"one\" + 0.007*\"get\" + 0.006*\"got\" + 0.006*\"come\"')]"
      ]
     },
     "execution_count": 9,
     "metadata": {},
     "output_type": "execute_result"
    }
   ],
   "source": [
    "lda.show_topics()"
   ]
  },
  {
   "cell_type": "code",
   "execution_count": null,
   "metadata": {
    "collapsed": true
   },
   "outputs": [],
   "source": [
    ""
   ]
  }
 ],
 "metadata": {
  "kernelspec": {
   "display_name": "Python 2",
   "language": "python",
   "name": "python2"
  },
  "language_info": {
   "codemirror_mode": {
    "name": "ipython",
    "version": 2.0
   },
   "file_extension": ".py",
   "mimetype": "text/x-python",
   "name": "python",
   "nbconvert_exporter": "python",
   "pygments_lexer": "ipython2",
   "version": "2.7.12"
  }
 },
 "nbformat": 4,
 "nbformat_minor": 0
}